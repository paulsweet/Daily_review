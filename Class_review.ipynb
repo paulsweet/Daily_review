{
 "cells": [
  {
   "cell_type": "markdown",
   "metadata": {},
   "source": [
    "# 类的复习-20181008"
   ]
  },
  {
   "cell_type": "code",
   "execution_count": 7,
   "metadata": {},
   "outputs": [],
   "source": [
    "# 创建一个Dog类\n",
    "class Dog():\n",
    "    \"\"\"模拟小狗\n",
    "    \"\"\"\n",
    "    def __init__(self,name,age):\n",
    "        self.name = name\n",
    "        self.age = age\n",
    "    \n",
    "    def sit(self):\n",
    "        \"\"\"模拟小狗蹲下\n",
    "        \"\"\"\n",
    "        print(self.name.title() + \"is now sitting.\")\n",
    "    \n",
    "    def roll_over(self):\n",
    "        \"\"\"模拟小狗被命令时打滚\n",
    "        \"\"\"\n",
    "        print(self.name.title() + \" rolled over!\")"
   ]
  },
  {
   "cell_type": "code",
   "execution_count": 8,
   "metadata": {},
   "outputs": [
    {
     "name": "stdout",
     "output_type": "stream",
     "text": [
      "Tom rolled over!\n"
     ]
    }
   ],
   "source": [
    "# 实例化\n",
    "my_dog = Dog('Tom',4)\n",
    "my_dog.roll_over()"
   ]
  },
  {
   "cell_type": "code",
   "execution_count": 10,
   "metadata": {},
   "outputs": [],
   "source": [
    "# 继承\n",
    "class ChineseDog(Dog):\n",
    "    \n",
    "    def __init__(self,name,age):\n",
    "        \"\"\"初始化父类属性\n",
    "        \"\"\"\n",
    "        super().__init__(name,age)"
   ]
  },
  {
   "cell_type": "code",
   "execution_count": 13,
   "metadata": {},
   "outputs": [
    {
     "name": "stdout",
     "output_type": "stream",
     "text": [
      "Tommy rolled over!\n"
     ]
    }
   ],
   "source": [
    "my_dog2 = ChineseDog('tommy',3)\n",
    "my_dog2.roll_over()"
   ]
  },
  {
   "cell_type": "markdown",
   "metadata": {},
   "source": [
    "## 小结："
   ]
  },
  {
   "cell_type": "markdown",
   "metadata": {},
   "source": [
    "1. Python里首字母大写的是类\n",
    "2. `__init__` 是一个特殊方法，每当你根据Dog类创建新实例时，Python都会自动运行它\n",
    "3. 每个与类相关联的方法调用都自动传递实参self，它是一个指向实例本身的引用，让实例能够访问类中的属性和方法\n",
    "4. 修改属性的方法主要有两种：a.直接通过实例进行修改；b.通过定义一个方法来更改属性的值\n",
    "5. 继承时，父类必须包含在当前文件中，且位于子类前面\n",
    "6. 可将实例做为一个属性"
   ]
  },
  {
   "cell_type": "code",
   "execution_count": null,
   "metadata": {},
   "outputs": [],
   "source": []
  }
 ],
 "metadata": {
  "kernelspec": {
   "display_name": "Python 3",
   "language": "python",
   "name": "python3"
  },
  "language_info": {
   "codemirror_mode": {
    "name": "ipython",
    "version": 3
   },
   "file_extension": ".py",
   "mimetype": "text/x-python",
   "name": "python",
   "nbconvert_exporter": "python",
   "pygments_lexer": "ipython3",
   "version": "3.6.6"
  }
 },
 "nbformat": 4,
 "nbformat_minor": 2
}
